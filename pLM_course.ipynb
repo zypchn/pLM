{
  "nbformat": 4,
  "nbformat_minor": 0,
  "metadata": {
    "colab": {
      "provenance": [],
      "collapsed_sections": [
        "3phpduZyt_V3"
      ],
      "authorship_tag": "ABX9TyOe9JRrQ3CW1Nrmu2VZ6pKY",
      "include_colab_link": true
    },
    "kernelspec": {
      "name": "python3",
      "display_name": "Python 3"
    },
    "language_info": {
      "name": "python"
    }
  },
  "cells": [
    {
      "cell_type": "markdown",
      "metadata": {
        "id": "view-in-github",
        "colab_type": "text"
      },
      "source": [
        "<a href=\"https://colab.research.google.com/github/zypchn/pLM/blob/main/pLM_course.ipynb\" target=\"_parent\"><img src=\"https://colab.research.google.com/assets/colab-badge.svg\" alt=\"Open In Colab\"/></a>"
      ]
    },
    {
      "cell_type": "code",
      "execution_count": 1,
      "metadata": {
        "colab": {
          "base_uri": "https://localhost:8080/"
        },
        "id": "AjWKk6TUL6k5",
        "outputId": "5d1362b5-03ad-44f2-879f-3ed65ddb206c"
      },
      "outputs": [
        {
          "output_type": "stream",
          "name": "stdout",
          "text": [
            "\u001b[2K     \u001b[90m━━━━━━━━━━━━━━━━━━━━━━━━━━━━━━━━━━━━━━━━\u001b[0m \u001b[32m40.1/40.1 kB\u001b[0m \u001b[31m1.9 MB/s\u001b[0m eta \u001b[36m0:00:00\u001b[0m\n",
            "\u001b[2K   \u001b[90m━━━━━━━━━━━━━━━━━━━━━━━━━━━━━━━━━━━━━━━━\u001b[0m \u001b[32m503.6/503.6 kB\u001b[0m \u001b[31m7.8 MB/s\u001b[0m eta \u001b[36m0:00:00\u001b[0m\n",
            "\u001b[2K   \u001b[90m━━━━━━━━━━━━━━━━━━━━━━━━━━━━━━━━━━━━━━━━\u001b[0m \u001b[32m84.1/84.1 kB\u001b[0m \u001b[31m5.9 MB/s\u001b[0m eta \u001b[36m0:00:00\u001b[0m\n",
            "\u001b[2K   \u001b[90m━━━━━━━━━━━━━━━━━━━━━━━━━━━━━━━━━━━━━━━━\u001b[0m \u001b[32m3.3/3.3 MB\u001b[0m \u001b[31m45.2 MB/s\u001b[0m eta \u001b[36m0:00:00\u001b[0m\n",
            "\u001b[2K   \u001b[90m━━━━━━━━━━━━━━━━━━━━━━━━━━━━━━━━━━━━━━━━\u001b[0m \u001b[32m42.8/42.8 MB\u001b[0m \u001b[31m18.8 MB/s\u001b[0m eta \u001b[36m0:00:00\u001b[0m\n",
            "\u001b[2K   \u001b[90m━━━━━━━━━━━━━━━━━━━━━━━━━━━━━━━━━━━━━━━━\u001b[0m \u001b[32m11.6/11.6 MB\u001b[0m \u001b[31m102.2 MB/s\u001b[0m eta \u001b[36m0:00:00\u001b[0m\n",
            "\u001b[?25h\u001b[31mERROR: pip's dependency resolver does not currently take into account all the packages that are installed. This behaviour is the source of the following dependency conflicts.\n",
            "cudf-cu12 25.6.0 requires pyarrow<20.0.0a0,>=14.0.0; platform_machine == \"x86_64\", but you have pyarrow 21.0.0 which is incompatible.\n",
            "pylibcudf-cu12 25.6.0 requires pyarrow<20.0.0a0,>=14.0.0; platform_machine == \"x86_64\", but you have pyarrow 21.0.0 which is incompatible.\u001b[0m\u001b[31m\n",
            "\u001b[0m"
          ]
        }
      ],
      "source": [
        "! pip install \"transformers[torch]\" datasets evaluate biopython py3Dmol pymsaviz -qU"
      ]
    },
    {
      "cell_type": "markdown",
      "source": [
        "# 1) Sequence Analysis"
      ],
      "metadata": {
        "id": "-2KbjVv4tzAz"
      }
    },
    {
      "cell_type": "markdown",
      "source": [
        "## Seq() Object and Methods"
      ],
      "metadata": {
        "id": "CnMIXvrHODkn"
      }
    },
    {
      "cell_type": "code",
      "source": [
        "from Bio.Seq import Seq\n",
        "\n",
        "# initialize sequence and access elements\n",
        "\n",
        "seq = Seq(\"CATGGTAC\")\n",
        "\n",
        "print(f\"length of the sequence : {len(seq)}\")\n",
        "print(f\"Second element of the sequence : {seq[1]}\")\n",
        "for idx, letter in enumerate(seq):\n",
        "  print(idx, letter)"
      ],
      "metadata": {
        "colab": {
          "base_uri": "https://localhost:8080/"
        },
        "id": "hQXIOSMMNmUn",
        "outputId": "9d9b6552-71fc-4968-d8b2-a37a40aa2258"
      },
      "execution_count": 2,
      "outputs": [
        {
          "output_type": "stream",
          "name": "stdout",
          "text": [
            "length of the sequence : 8\n",
            "Second element of the sequence : A\n",
            "0 C\n",
            "1 A\n",
            "2 T\n",
            "3 G\n",
            "4 G\n",
            "5 T\n",
            "6 A\n",
            "7 C\n"
          ]
        }
      ]
    },
    {
      "cell_type": "code",
      "source": [
        "# count method (non-overlap)\n",
        "\n",
        "print(Seq(\"GGGGG\").count(\"GG\"))"
      ],
      "metadata": {
        "colab": {
          "base_uri": "https://localhost:8080/"
        },
        "id": "fPkz-bUmNt2W",
        "outputId": "ccb7de86-6400-4b02-cfee-dc939ea77252"
      },
      "execution_count": 3,
      "outputs": [
        {
          "output_type": "stream",
          "name": "stdout",
          "text": [
            "2\n"
          ]
        }
      ]
    },
    {
      "cell_type": "code",
      "source": [
        "# calculate GC% (manually)\n",
        "\n",
        "seq = Seq(\"GATCGATGGGCCTATATAGGATCGAAAATCGC\")\n",
        "print(f\"length of the sequence : {len(seq)}\")\n",
        "print(f\"count of 'G' nucleotide : {seq.count('G')}\")\n",
        "print(f\"count of 'C' nucleotide : {seq.count('C')}\")\n",
        "print(f\"GC% of the sequence : {100 * (seq.count('G') + seq.count('C')) / len(seq)}\")"
      ],
      "metadata": {
        "colab": {
          "base_uri": "https://localhost:8080/"
        },
        "id": "_KFRzJLZNu9Q",
        "outputId": "0ad58e85-6620-405a-9c12-c6681c08dc85"
      },
      "execution_count": 4,
      "outputs": [
        {
          "output_type": "stream",
          "name": "stdout",
          "text": [
            "length of the sequence : 32\n",
            "count of 'G' nucleotide : 9\n",
            "count of 'C' nucleotide : 6\n",
            "GC% of the sequence : 46.875\n"
          ]
        }
      ]
    },
    {
      "cell_type": "code",
      "source": [
        "# calculate GC% (built-in function)\n",
        "\n",
        "from Bio.SeqUtils import gc_fraction\n",
        "\n",
        "print(f\"GC% of the sequence : {gc_fraction(seq) * 100}\")"
      ],
      "metadata": {
        "colab": {
          "base_uri": "https://localhost:8080/"
        },
        "id": "x_7B4syiR54l",
        "outputId": "2f3b92dc-401a-4fb1-a74c-7e7191eaa642"
      },
      "execution_count": 5,
      "outputs": [
        {
          "output_type": "stream",
          "name": "stdout",
          "text": [
            "GC% of the sequence : 46.875\n"
          ]
        }
      ]
    },
    {
      "cell_type": "markdown",
      "source": [
        "## Transcription and Translation"
      ],
      "metadata": {
        "id": "ULkV8uoSSjK2"
      }
    },
    {
      "cell_type": "code",
      "source": [
        "# instantiate a Seq\n",
        "coding_dna = Seq(\"ATGGCCATTGTAATGGGCCGCTGAAAGGGTGCCCGATAG\")\n",
        "print(\"Coding DNA\\n\" + coding_dna)\n",
        "print()\n",
        "\n",
        "# get reverse complement\n",
        "template_dna = coding_dna.reverse_complement()\n",
        "print(\"Reverse Complement of Coding DNA\\n\" + template_dna)\n",
        "print()\n",
        "\n",
        "# get messenger RNA\n",
        "# in DNA, change T -> U\n",
        "messenger_rna = coding_dna.transcribe()\n",
        "print(\"Messenger RNA\\n\" + messenger_rna)"
      ],
      "metadata": {
        "colab": {
          "base_uri": "https://localhost:8080/"
        },
        "id": "skAfjiqNSYff",
        "outputId": "bac46ff1-ed45-4686-a8ca-c01ab0d2d329"
      },
      "execution_count": 6,
      "outputs": [
        {
          "output_type": "stream",
          "name": "stdout",
          "text": [
            "Coding DNA\n",
            "ATGGCCATTGTAATGGGCCGCTGAAAGGGTGCCCGATAG\n",
            "\n",
            "Reverse Complement of Coding DNA\n",
            "CTATCGGGCACCCTTTCAGCGGCCCATTACAATGGCCAT\n",
            "\n",
            "Messenger RNA\n",
            "AUGGCCAUUGUAAUGGGCCGCUGAAAGGGUGCCCGAUAG\n"
          ]
        }
      ]
    },
    {
      "cell_type": "code",
      "source": [
        "# translate mRNA to protein\n",
        "print(\"Protein from mRNA :\\t\" + messenger_rna.translate())\n",
        "\n",
        "# translate coding DNA to protein\n",
        "print(\"Protein from DNA :\\t\" + coding_dna.translate())"
      ],
      "metadata": {
        "colab": {
          "base_uri": "https://localhost:8080/"
        },
        "id": "1YEIpDGbYKM4",
        "outputId": "f9a938ae-74c8-42a9-aa2a-6e56f9313370"
      },
      "execution_count": 7,
      "outputs": [
        {
          "output_type": "stream",
          "name": "stdout",
          "text": [
            "Protein from mRNA :\tMAIVMGR*KGAR*\n",
            "Protein from DNA :\tMAIVMGR*KGAR*\n"
          ]
        }
      ]
    },
    {
      "cell_type": "markdown",
      "source": [
        "You should notice in the above protein sequences that in addition to the end stop character (*), there is an internal stop as well. This is because we are using the default genetic code (NCBI's standard genetic code - table 1), but there are other translation tables (Genetic Codes) that we can use. Suppose we are instead dealing with a Mitochondrial sequence. We need to tell the translation function to use the relevant genetic code instead:"
      ],
      "metadata": {
        "id": "wtHWzTaoc-DO"
      }
    },
    {
      "cell_type": "code",
      "source": [
        "# get translation table by name\n",
        "print(\"Protein from DNA :\\t\" + coding_dna.translate(table=\"Vertebrate Mitochondrial\"))\n",
        "\n",
        "# get translation table by NCBI table number\n",
        "print(\"Protein from DNA :\\t\" + coding_dna.translate(table=2))"
      ],
      "metadata": {
        "colab": {
          "base_uri": "https://localhost:8080/"
        },
        "id": "15Pvz2h-ZGV1",
        "outputId": "30f8f3ee-6e9f-49d3-a641-1fa42d8f3f87"
      },
      "execution_count": 8,
      "outputs": [
        {
          "output_type": "stream",
          "name": "stdout",
          "text": [
            "Protein from DNA :\tMAIVMGRWKGAR*\n",
            "Protein from DNA :\tMAIVMGRWKGAR*\n"
          ]
        }
      ]
    },
    {
      "cell_type": "code",
      "source": [
        "# translate the nucleotides up to the first in frame stop codon\n",
        "print(\"Protein from DNA with stop :\\t\" + coding_dna.translate(to_stop=True))"
      ],
      "metadata": {
        "colab": {
          "base_uri": "https://localhost:8080/"
        },
        "id": "pi7WCWN6dGmc",
        "outputId": "8357de38-0e3b-4ddb-9516-4fc98f1abc29"
      },
      "execution_count": 9,
      "outputs": [
        {
          "output_type": "stream",
          "name": "stdout",
          "text": [
            "Protein from DNA with stop :\tMAIVMGR\n"
          ]
        }
      ]
    },
    {
      "cell_type": "code",
      "source": [
        "# specify the stop symbol\n",
        "print(\"Protein from DNA with stop symbol as '#' :\\t\" + coding_dna.translate(table=2, stop_symbol=\"#\"))"
      ],
      "metadata": {
        "colab": {
          "base_uri": "https://localhost:8080/"
        },
        "id": "l8CaJC9hdlYK",
        "outputId": "056bd6c3-7314-42e6-caa2-11766eb46628"
      },
      "execution_count": 10,
      "outputs": [
        {
          "output_type": "stream",
          "name": "stdout",
          "text": [
            "Protein from DNA with stop symbol as '#' :\tMAIVMGRWKGAR#\n"
          ]
        }
      ]
    },
    {
      "cell_type": "markdown",
      "source": [
        "## Exercise 1"
      ],
      "metadata": {
        "id": "3phpduZyt_V3"
      }
    },
    {
      "cell_type": "code",
      "source": [
        "seq_str = \"ATGGCCCTGTGGATGCGCCTCCTGCCCCTGCTGGCGCTGCTGGCCCTCTGGGGACCTGACCCAGCCGCAGCCTTTGTGAACCAACACCTGTGCGGCTCACACCTGGTGGAAGCTCTCTACCTAGTGTGCGGGGAACGAGGCTTCTTCTACACACCCAAGACCCGCCGGGAGGCAGAGGACCTGCAGGTGGGGCAGGTGGAGCTGGGCGGGGGCCCTGGTGCAGGCAGCCTGCAGCCCTTGGCCCTGGAGGGGTCCCTGCAGAAGCGTGGCATTGTGGAACAATGCTGTACCAGCATCTGCTCCCTCTACCAGCTGGAGAACTACTGCAACTAG\"\n",
        "seq = Seq(seq_str)"
      ],
      "metadata": {
        "id": "TFebYh9nuUlH"
      },
      "execution_count": 16,
      "outputs": []
    },
    {
      "cell_type": "code",
      "source": [
        "# gc% of the sequence?\n",
        "\n",
        "print(f\"gc% : {gc_fraction(seq) * 100}\")"
      ],
      "metadata": {
        "colab": {
          "base_uri": "https://localhost:8080/"
        },
        "id": "IgoxdMP0t-Rn",
        "outputId": "a97682b7-7a63-4624-99a6-c284f264dcdf"
      },
      "execution_count": 17,
      "outputs": [
        {
          "output_type": "stream",
          "name": "stdout",
          "text": [
            "gc% : 64.56456456456456\n"
          ]
        }
      ]
    },
    {
      "cell_type": "code",
      "source": [
        "# translate the transcription of the sequence\n",
        "\n",
        "mrna = seq.transcribe()          # mRNA\n",
        "prot = mrna.translate()   # protein\n",
        "print(f\"Transcription (mRNA) \\n\" + mrna)\n",
        "print()\n",
        "print(f\"Translation of Transcription (Protein)\\n\" + prot)"
      ],
      "metadata": {
        "colab": {
          "base_uri": "https://localhost:8080/"
        },
        "id": "M52rJV0wuPMH",
        "outputId": "8816fcac-fdf1-4a89-b67b-f16f6146be01"
      },
      "execution_count": 22,
      "outputs": [
        {
          "output_type": "stream",
          "name": "stdout",
          "text": [
            "Transcription (mRNA) \n",
            "AUGGCCCUGUGGAUGCGCCUCCUGCCCCUGCUGGCGCUGCUGGCCCUCUGGGGACCUGACCCAGCCGCAGCCUUUGUGAACCAACACCUGUGCGGCUCACACCUGGUGGAAGCUCUCUACCUAGUGUGCGGGGAACGAGGCUUCUUCUACACACCCAAGACCCGCCGGGAGGCAGAGGACCUGCAGGUGGGGCAGGUGGAGCUGGGCGGGGGCCCUGGUGCAGGCAGCCUGCAGCCCUUGGCCCUGGAGGGGUCCCUGCAGAAGCGUGGCAUUGUGGAACAAUGCUGUACCAGCAUCUGCUCCCUCUACCAGCUGGAGAACUACUGCAACUAG\n",
            "\n",
            "Translation of Transcription (Protein)\n",
            "MALWMRLLPLLALLALWGPDPAAAFVNQHLCGSHLVEALYLVCGERGFFYTPKTRREAEDLQVGQVELGGGPGAGSLQPLALEGSLQKRGIVEQCCTSICSLYQLENYCN*\n"
          ]
        }
      ]
    },
    {
      "cell_type": "code",
      "source": [
        "# which is the most abundant protein\n",
        "\n",
        "from Bio.SeqUtils.ProtParam import ProteinAnalysis\n",
        "\n",
        "prot_seq = ProteinAnalysis(prot)\n",
        "\n",
        "aa_count = prot_seq.count_amino_acids()\n",
        "\n",
        "print(\"Most abundant protein : \" + max(aa_count))"
      ],
      "metadata": {
        "colab": {
          "base_uri": "https://localhost:8080/"
        },
        "id": "y_DcoZTsuh56",
        "outputId": "c563ef84-1419-44fe-e7f9-5aad2de57a2c"
      },
      "execution_count": 27,
      "outputs": [
        {
          "output_type": "stream",
          "name": "stdout",
          "text": [
            "Most abundant protein : Y\n"
          ]
        }
      ]
    },
    {
      "cell_type": "code",
      "source": [
        "# what protein is this\n",
        "\n",
        "from Bio.Blast import NCBIWWW, NCBIXML\n",
        "result = NCBIWWW.qblast(\"blastp\", \"nr\", str(prot))\n",
        "print(f\"Sequence belongs to : {result.read()}\")   # insulin"
      ],
      "metadata": {
        "colab": {
          "base_uri": "https://localhost:8080/"
        },
        "id": "E0f87jzFv6oi",
        "outputId": "805b80f2-0e99-4f10-8596-21ed71f41193"
      },
      "execution_count": 24,
      "outputs": [
        {
          "output_type": "stream",
          "name": "stdout",
          "text": [
            "Sequence belongs to : <_io.StringIO object at 0x797094b0aec0>\n"
          ]
        }
      ]
    },
    {
      "cell_type": "markdown",
      "source": [
        "## SeqRecord Object"
      ],
      "metadata": {
        "id": "_N2BgZNF5JW1"
      }
    },
    {
      "cell_type": "code",
      "source": [
        "from Bio.SeqRecord import SeqRecord\n",
        "\n",
        "seq = Seq(\"GATCATTG\")\n",
        "seq_rec = SeqRecord(seq)"
      ],
      "metadata": {
        "id": "ev-TEbsp8kIc"
      },
      "execution_count": 32,
      "outputs": []
    },
    {
      "cell_type": "code",
      "source": [
        "# get id\n",
        "\n",
        "print(\"ID of the Sequence Record : \" + seq_rec.id)"
      ],
      "metadata": {
        "colab": {
          "base_uri": "https://localhost:8080/"
        },
        "id": "aFtclPyV80_0",
        "outputId": "65b6f31f-b01b-4a3a-f150-1232fa47422e"
      },
      "execution_count": 33,
      "outputs": [
        {
          "output_type": "stream",
          "name": "stdout",
          "text": [
            "ID of the Sequence Record : <unknown id>\n"
          ]
        }
      ]
    },
    {
      "cell_type": "code",
      "source": [
        "# modify ID and description\n",
        "\n",
        "seq_rec.id = \"JMM2104\"\n",
        "seq_rec.description = \"Mock sequence\"\n",
        "\n",
        "print(\"Sequence Record : \" + seq_rec.seq)\n",
        "print(\"ID of the Sequence Record : \" + seq_rec.id)\n",
        "print(\"Description of the Sequence Record : \" + seq_rec.description)"
      ],
      "metadata": {
        "colab": {
          "base_uri": "https://localhost:8080/"
        },
        "id": "OSRPHs2-88Zy",
        "outputId": "4695acba-58fd-42dd-aa9b-91c511093a54"
      },
      "execution_count": 36,
      "outputs": [
        {
          "output_type": "stream",
          "name": "stdout",
          "text": [
            "Sequence Record : GATCATTG\n",
            "ID of the Sequence Record : JMM2104\n",
            "Description of the Sequence Record : Mock sequence\n"
          ]
        }
      ]
    },
    {
      "cell_type": "code",
      "source": [
        "simple_sec_rec = SeqRecord(\n",
        "    Seq(\"TGT\"),\n",
        "    id=\"cys\",\n",
        "    name=\"cysteine\",\n",
        "    description=\"Cysteine amino acid\"\n",
        ")\n",
        "print(simple_sec_rec)"
      ],
      "metadata": {
        "colab": {
          "base_uri": "https://localhost:8080/"
        },
        "id": "3P1gjEL-9Qt8",
        "outputId": "4711d817-3b67-4997-f347-5ee8422bdb3e"
      },
      "execution_count": 38,
      "outputs": [
        {
          "output_type": "stream",
          "name": "stdout",
          "text": [
            "ID: cys\n",
            "Name: cysteine\n",
            "Description: Cysteine amino acid\n",
            "Number of features: 0\n",
            "Seq('TGT')\n"
          ]
        }
      ]
    },
    {
      "cell_type": "code",
      "source": [
        "# adding annotations\n",
        "\n",
        "simple_sec_rec.annotations[\"evidence\"] = \"None\"\n",
        "print(simple_sec_rec.annotations)\n",
        "\n",
        "print()\n",
        "\n",
        "simple_sec_rec.letter_annotations[\"phred_quality\"] = [40, 38, 30]   # AA quality metric\n",
        "print(simple_sec_rec.letter_annotations)"
      ],
      "metadata": {
        "colab": {
          "base_uri": "https://localhost:8080/"
        },
        "id": "uIOE5D_k9xKz",
        "outputId": "3c08693f-0409-4c5a-c063-242097b511ec"
      },
      "execution_count": 42,
      "outputs": [
        {
          "output_type": "stream",
          "name": "stdout",
          "text": [
            "{'evidence': 'None'}\n",
            "\n",
            "{'phred_quality': [40, 38, 30]}\n"
          ]
        }
      ]
    },
    {
      "cell_type": "markdown",
      "source": [
        "## Obtain and Parse Sequences"
      ],
      "metadata": {
        "id": "v66C6MqTDLcl"
      }
    },
    {
      "cell_type": "code",
      "source": [
        "from Bio import SeqIO, Entrez\n",
        "import json\n",
        "\n",
        "# set email\n",
        "Entrez.email = \"namesurname@gmail.com\"\n",
        "\n",
        "# search\n",
        "with Entrez.esearch(db=\"assembly\", term=\"Escherichial coli\", retmax=10) as handle:\n",
        "  result = Entrez.read(handle)   # convert to easy-to-read format\n",
        "\n",
        "print(json.dumps(result, indent=2))"
      ],
      "metadata": {
        "colab": {
          "base_uri": "https://localhost:8080/"
        },
        "id": "p8UaGH7SBcnJ",
        "outputId": "12d9d320-8f27-4196-c23d-b0071a0dafd6"
      },
      "execution_count": 46,
      "outputs": [
        {
          "output_type": "stream",
          "name": "stdout",
          "text": [
            "{\n",
            "  \"Count\": \"384191\",\n",
            "  \"RetMax\": \"10\",\n",
            "  \"RetStart\": \"0\",\n",
            "  \"IdList\": [\n",
            "    \"77655698\",\n",
            "    \"77653758\",\n",
            "    \"77493548\",\n",
            "    \"77444178\",\n",
            "    \"77315918\",\n",
            "    \"77262068\",\n",
            "    \"77258988\",\n",
            "    \"76778028\",\n",
            "    \"76753118\",\n",
            "    \"76683798\"\n",
            "  ],\n",
            "  \"TranslationSet\": [],\n",
            "  \"TranslationStack\": [\n",
            "    {\n",
            "      \"Term\": \"coli[All Fields]\",\n",
            "      \"Field\": \"All Fields\",\n",
            "      \"Count\": \"384191\",\n",
            "      \"Explode\": \"N\"\n",
            "    },\n",
            "    \"GROUP\"\n",
            "  ],\n",
            "  \"QueryTranslation\": \"coli[All Fields]\",\n",
            "  \"ErrorList\": {\n",
            "    \"PhraseNotFound\": [\n",
            "      \"Escherichial\"\n",
            "    ],\n",
            "    \"FieldNotFound\": []\n",
            "  }\n",
            "}\n"
          ]
        }
      ]
    },
    {
      "cell_type": "code",
      "source": [
        "## SEARCH Nucleotide Database\n",
        "\n",
        "# fetch query\n",
        "with Entrez.efetch(db=\"nucleotide\", id=result[\"IdList\"], rettype=\"gb\", retmode=\"text\") as handle:\n",
        "\n",
        "  # takes the handle and returns a SeqRecord iterator\n",
        "  record_iterator = SeqIO.parse(handle, \"gb\")\n",
        "\n",
        "  for record in record_iterator:\n",
        "    print(record.format(\"fasta\"))\n",
        "    break"
      ],
      "metadata": {
        "colab": {
          "base_uri": "https://localhost:8080/"
        },
        "id": "TlLPVJs8F4Ti",
        "outputId": "afbd5a84-5ddc-4294-cf7a-8bbb92e424bf"
      },
      "execution_count": 50,
      "outputs": [
        {
          "output_type": "stream",
          "name": "stdout",
          "text": [
            ">DV209934.1 0089P0134Z_C10_T7 Mimulus guttatus library 2 Erythranthe guttata cDNA clone 0089P0134Z_C10 5', mRNA sequence\n",
            "GACCCAATTGAGTTGGTTGTGTGGCTCCCTGCTCTATGCAGGAAGATGGAGATTCCTTAC\n",
            "TGTATTGTGAAAGGGAAAGCTAGATTGGGAACTATTGTCCACAAGAAGACTGCCTCTGTT\n",
            "TTATGCTTGACCTCAGTTAAGAATGAAGACAAGATGGACTTCAGTAAGATCCTGGAGGCA\n",
            "ATCAAGGCCAATTTCAATGATAAATACGACGAGACCAGGAAGAAGTGGGGTGGTGGTGTT\n",
            "ATGGGTTCGAAATCTCAGGCCAAGACTAAGGCCAAGGAGAGAGTTCTTGCAAAGGAAGCT\n",
            "GCACAGAGGATGACCTAGAGACATTTTGCTAAATATGTCTATTAGGGTTAGAATCGAATA\n",
            "TGAGTATTTCTGATGTGCAACTTGTTTTCCCCAGGTTCAGATTAGACATGAATTTTGTTT\n",
            "TTATTTTGAAATTGCCCCTTTTATTTTTAAATCGAATCTGCTTCAATTGGACTACATGAA\n",
            "TCGAGCTTGTTATTTAAAGTTTTTCTGGTTTTGTTGAATTTATCTATGTAACTTGATGTT\n",
            "TGATCTGTGT\n",
            "\n"
          ]
        }
      ]
    },
    {
      "cell_type": "code",
      "source": [
        "## SEARCH Protein Database\n",
        "\n",
        "# search IDs of proteins\n",
        "with Entrez.esearch(db=\"protein\", term=\"Escherical coli\", retmax=10) as handle:\n",
        "  result = Entrez.read(handle)\n",
        "\n",
        "print(result[\"IdList\"])\n",
        "\n",
        "print()\n",
        "\n",
        "# fetch proteins using the retrieved IDs\n",
        "with Entrez.efetch(db=\"protein\", id=result[\"IdList\"], rettype=\"gb\", retmode=\"text\") as handle:\n",
        "  record_iterator = SeqIO.parse(handle, \"gb\")\n",
        "\n",
        "  for record in record_iterator:\n",
        "    print(record.format(\"fasta\"))\n",
        "    break"
      ],
      "metadata": {
        "colab": {
          "base_uri": "https://localhost:8080/"
        },
        "id": "E2D_pE1fJBFP",
        "outputId": "0fbd238b-75a2-4748-fc72-f33a02a1c1c6"
      },
      "execution_count": 52,
      "outputs": [
        {
          "output_type": "stream",
          "name": "stdout",
          "text": [
            "['3062767406', '3062767331', '3062767323', '3062767298', '3062767295', '3062767293', '3062767283', '3062767277', '3062767250', '3062767237']\n",
            "\n",
            ">WP_445512675.1 GspE/PulE/PilB domain-containing protein, partial [Shewanella xiamenensis]\n",
            "MPSAGLHLGLSTLFIRKGLLNEEQMASAITKSRQNKQTLVTTLVQTKLVSARSIAELCYE\n",
            "EYGTPLLDLAEFDISAIPEEFLNKKLIEKHRCLPLFKRGNRLYIATSDPTNIAALEEFQF\n",
            "SAGL\n",
            "\n"
          ]
        }
      ]
    },
    {
      "cell_type": "markdown",
      "source": [
        "## Protein Parameters"
      ],
      "metadata": {
        "id": "o71bQ3zGJY_R"
      }
    },
    {
      "cell_type": "code",
      "source": [],
      "metadata": {
        "id": "xTNUPSqmJajC"
      },
      "execution_count": null,
      "outputs": []
    }
  ]
}